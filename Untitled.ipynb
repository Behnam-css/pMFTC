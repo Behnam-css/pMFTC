{
 "cells": [
  {
   "cell_type": "code",
   "execution_count": 2,
   "id": "4434e0d8-63ff-415e-8ddf-0f902e45d6a9",
   "metadata": {},
   "outputs": [],
   "source": [
    "import pandas as pd"
   ]
  },
  {
   "cell_type": "code",
   "execution_count": 24,
   "id": "e7826e60-4530-4f50-9dbf-e913e96b1726",
   "metadata": {},
   "outputs": [],
   "source": [
    "d1=pd.read_excel('b1.xlsx')\n",
    "d2=pd.read_excel('b2.xlsx')\n",
    "d3=pd.read_excel('new_dataset _care.xlsx')\n",
    "d4=pd.read_excel('tweets.xlsx')"
   ]
  },
  {
   "cell_type": "code",
   "execution_count": 31,
   "id": "ba988a87-7b75-4f1d-a459-a7043d930cef",
   "metadata": {
    "tags": []
   },
   "outputs": [],
   "source": [
    "def validated(n1,n2,b):\n",
    "    found=d1.iloc[n1:n2]\n",
    "    lost=found['check'].isnull().any()\n",
    "    k=len(found[found['check']==b])\n",
    "    return k,found[found['check']==b]"
   ]
  },
  {
   "cell_type": "code",
   "execution_count": 5,
   "id": "d82a4db0-e2fd-49c8-9924-9ec3348f208d",
   "metadata": {
    "tags": []
   },
   "outputs": [
    {
     "data": {
      "text/plain": [
       "299"
      ]
     },
     "execution_count": 5,
     "metadata": {},
     "output_type": "execute_result"
    }
   ],
   "source": [
    "n,care=validated(0,500,1)\n",
    "n"
   ]
  },
  {
   "cell_type": "code",
   "execution_count": 6,
   "id": "4e805e86-f6f9-4653-8e99-8965a9fb4e44",
   "metadata": {},
   "outputs": [],
   "source": [
    "#care['Tweet'].tolist()"
   ]
  },
  {
   "cell_type": "code",
   "execution_count": 7,
   "id": "a7357114-fab3-4725-9352-2765106166c0",
   "metadata": {},
   "outputs": [
    {
     "data": {
      "text/plain": [
       "34"
      ]
     },
     "execution_count": 7,
     "metadata": {},
     "output_type": "execute_result"
    }
   ],
   "source": [
    "n,equality=validated(500,1000,0)\n",
    "n"
   ]
  },
  {
   "cell_type": "code",
   "execution_count": 8,
   "id": "f3e30437-d8d3-4f2e-ba2b-bc30192fcf63",
   "metadata": {},
   "outputs": [
    {
     "data": {
      "text/plain": [
       "476"
      ]
     },
     "execution_count": 8,
     "metadata": {},
     "output_type": "execute_result"
    }
   ],
   "source": [
    "n,loyalty=validated(1500,2000,1)\n",
    "n"
   ]
  },
  {
   "cell_type": "code",
   "execution_count": 9,
   "id": "fcb57bb1-4630-493c-be35-16edb695f6d2",
   "metadata": {},
   "outputs": [
    {
     "data": {
      "text/plain": [
       "468"
      ]
     },
     "execution_count": 9,
     "metadata": {},
     "output_type": "execute_result"
    }
   ],
   "source": [
    "n,authority=validated(2000,2500,1)\n",
    "n"
   ]
  },
  {
   "cell_type": "code",
   "execution_count": 10,
   "id": "2d28e25a-09e3-4bf2-a937-a6e8b13e81e7",
   "metadata": {},
   "outputs": [
    {
     "data": {
      "text/plain": [
       "24"
      ]
     },
     "execution_count": 10,
     "metadata": {},
     "output_type": "execute_result"
    }
   ],
   "source": [
    "n,purity=validated(2500,3000,0)\n",
    "n"
   ]
  },
  {
   "cell_type": "code",
   "execution_count": 11,
   "id": "59ff53eb-346b-48aa-8353-b74d82cb02c3",
   "metadata": {
    "tags": []
   },
   "outputs": [
    {
     "data": {
      "text/plain": [
       "456"
      ]
     },
     "execution_count": 11,
     "metadata": {},
     "output_type": "execute_result"
    }
   ],
   "source": [
    "n,liberty=validated(3000,3500,1)\n",
    "n"
   ]
  },
  {
   "cell_type": "code",
   "execution_count": 12,
   "id": "a259a9b5-00b1-47ee-aba8-782f2f35b079",
   "metadata": {},
   "outputs": [
    {
     "data": {
      "text/plain": [
       "44"
      ]
     },
     "execution_count": 12,
     "metadata": {},
     "output_type": "execute_result"
    }
   ],
   "source": [
    "n,qeirat=validated(3500,4000,0)\n",
    "n"
   ]
  },
  {
   "cell_type": "code",
   "execution_count": null,
   "id": "bd36552d-d1d8-400a-aa1d-0f8cfdaf8176",
   "metadata": {},
   "outputs": [],
   "source": [
    "\n"
   ]
  },
  {
   "cell_type": "code",
   "execution_count": null,
   "id": "92fd38af-aa87-47b9-9473-35a4a2e28b97",
   "metadata": {},
   "outputs": [],
   "source": []
  },
  {
   "cell_type": "markdown",
   "id": "d0bb9654-f075-4986-a941-bd5c3150f0bd",
   "metadata": {},
   "source": [
    "prop"
   ]
  },
  {
   "cell_type": "code",
   "execution_count": null,
   "id": "6bfc6840-00c6-4dab-bbbc-d7087c3f03d3",
   "metadata": {},
   "outputs": [],
   "source": []
  },
  {
   "cell_type": "code",
   "execution_count": 13,
   "id": "0bea92fa-7104-4525-8003-77855a775c0e",
   "metadata": {},
   "outputs": [
    {
     "data": {
      "text/plain": [
       "350"
      ]
     },
     "execution_count": 13,
     "metadata": {},
     "output_type": "execute_result"
    }
   ],
   "source": [
    "k=len(d2[d2['check']==1])\n",
    "k"
   ]
  },
  {
   "cell_type": "code",
   "execution_count": 14,
   "id": "18b83a74-1b9f-47e5-b826-aee0d0dde2d9",
   "metadata": {},
   "outputs": [],
   "source": [
    "pro1=d2[d2['check']==1]"
   ]
  },
  {
   "cell_type": "code",
   "execution_count": 15,
   "id": "06391c26-eaea-43cc-955f-75e74938c00a",
   "metadata": {
    "tags": []
   },
   "outputs": [],
   "source": [
    "p1=pro1['full_text'].tolist()\n"
   ]
  },
  {
   "cell_type": "code",
   "execution_count": 16,
   "id": "0eea1c37-7255-4987-a580-218826001b0f",
   "metadata": {},
   "outputs": [
    {
     "data": {
      "text/plain": [
       "350"
      ]
     },
     "execution_count": 16,
     "metadata": {},
     "output_type": "execute_result"
    }
   ],
   "source": [
    "len(p1)"
   ]
  },
  {
   "cell_type": "code",
   "execution_count": 17,
   "id": "5ae37a2d-7c32-47df-803a-f7fe5f93d6fd",
   "metadata": {},
   "outputs": [],
   "source": [
    "p=d1.iloc[1000:1500]\n",
    "p2=p[p['prop_check']==1]['Tweet'].tolist()\n"
   ]
  },
  {
   "cell_type": "code",
   "execution_count": null,
   "id": "40c302f5-e434-4cc9-884e-ed580f5447f9",
   "metadata": {},
   "outputs": [],
   "source": []
  },
  {
   "cell_type": "code",
   "execution_count": 18,
   "id": "625da621-0882-4a7a-b1a0-bf2776a17126",
   "metadata": {},
   "outputs": [],
   "source": [
    "p3=d1[d1['check']=='pro']['Tweet'].tolist()\n",
    "p4=d1[d1['prop_check']=='pro']['Tweet'].tolist()"
   ]
  },
  {
   "cell_type": "code",
   "execution_count": 19,
   "id": "fa76b598-c30a-4dd8-912f-549bd78fcd85",
   "metadata": {},
   "outputs": [
    {
     "data": {
      "text/plain": [
       "['چقدررررر میتونین آدم کثیف و بی شخصیتی باشین که کسیو به کاری که نکرده متهم کنین واقعا گاهی اوقات دلیل اینکه یه سریارو بد بختی دنبال میکنه میفهمم اینا ذاتشون سیاه و خرابه و لیاقت آرامش و خوشیو ندارن',\n",
       " 'در این راستا جرایم و مالیات نیز متعاقبا باید با توجه به تمکن مالی افراد متفاوت وضع شود صاحبان خانه خودرو لاکچری باید مالیات بیشتری بدهند تا عدالت رعایت شود ',\n",
       " 'از حدگذرانده اند شایسته گزینی در کشور قربانی بی ضابطه و شل کن سفت کن آقایان شده است و براساس آن ناکارآمدی و فساد همه جا را گرفته است حال ایشان بجای آنکه سرش را پایین بیاندازد و شرمنده حاصل كار خودشان باشد باد در پاچه قربانيان كرده و بر دل و پهلوى آنها مشت مى کوبد F68kNG1',\n",
       " 'خاک بر سر اجداد بی لیاقت و مرتجع و خرافه پرست ما که رفتن دنبال آب و برق مفتی نسل من دهه پنجاهی وبعداز آن هیچ گناه و تاثیری برروی این خریت نداشته ولی به جای آنها شرمنده و نادمیم',\n",
       " 'بی لیاقت ترین فرد چه کسی ست',\n",
       " 'و غیرت اشتباه واست معنی کردنلیاقت خود سوزی بودناموس و حیاس که این قوم به حراج گذاشتن   ',\n",
       " 'پاسدار رضاپهلوی شاسکول و بی غیرتتونه که میگه متجاوزین به ناموستونو ببخشید و تویی که در جهل وتعصب مطلق دست وپا میزنی و افتادی به چرت وپرت گویی توی احمق وامثال تو لیاقتتون همینه که شاسکول رضا پهلوی روسجده کنی که واسه جلب توجه امثالتو ممه زنش رووسیله قرار میده زنده باد ری استارت',\n",
       " 'و افسوس از این همه بی لیاقتی']"
      ]
     },
     "execution_count": 19,
     "metadata": {},
     "output_type": "execute_result"
    }
   ],
   "source": [
    "p3"
   ]
  },
  {
   "cell_type": "code",
   "execution_count": 20,
   "id": "63166bd9-dd82-4460-9e3d-dc465c646473",
   "metadata": {},
   "outputs": [],
   "source": [
    "proportionality_tweets=p1+p2+p3+p4"
   ]
  },
  {
   "cell_type": "code",
   "execution_count": 21,
   "id": "33b4ce0a-fe09-4a8b-88a8-b9ed5991d372",
   "metadata": {},
   "outputs": [
    {
     "data": {
      "text/plain": [
       "507"
      ]
     },
     "execution_count": 21,
     "metadata": {},
     "output_type": "execute_result"
    }
   ],
   "source": [
    "len(proportionality_tweets)"
   ]
  },
  {
   "cell_type": "code",
   "execution_count": null,
   "id": "97cfa9b0-f835-47c7-89b5-50f7b1029c07",
   "metadata": {},
   "outputs": [],
   "source": []
  },
  {
   "cell_type": "markdown",
   "id": "d7720502-90d0-425f-a3d7-ea123e0135b6",
   "metadata": {},
   "source": [
    "Extra tweets"
   ]
  },
  {
   "cell_type": "code",
   "execution_count": null,
   "id": "46d70701-35f4-4311-95bb-b3943d617d62",
   "metadata": {},
   "outputs": [],
   "source": []
  },
  {
   "cell_type": "code",
   "execution_count": 35,
   "id": "c3c492b4-a21c-496d-b327-60800ab4d23e",
   "metadata": {},
   "outputs": [
    {
     "ename": "KeyError",
     "evalue": "'prop_check'",
     "output_type": "error",
     "traceback": [
      "\u001b[0;31m---------------------------------------------------------------------------\u001b[0m",
      "\u001b[0;31mKeyError\u001b[0m                                  Traceback (most recent call last)",
      "File \u001b[0;32m~/anaconda3/lib/python3.9/site-packages/pandas/core/indexes/base.py:3621\u001b[0m, in \u001b[0;36mIndex.get_loc\u001b[0;34m(self, key, method, tolerance)\u001b[0m\n\u001b[1;32m   3620\u001b[0m \u001b[38;5;28;01mtry\u001b[39;00m:\n\u001b[0;32m-> 3621\u001b[0m     \u001b[38;5;28;01mreturn\u001b[39;00m \u001b[38;5;28;43mself\u001b[39;49m\u001b[38;5;241;43m.\u001b[39;49m\u001b[43m_engine\u001b[49m\u001b[38;5;241;43m.\u001b[39;49m\u001b[43mget_loc\u001b[49m\u001b[43m(\u001b[49m\u001b[43mcasted_key\u001b[49m\u001b[43m)\u001b[49m\n\u001b[1;32m   3622\u001b[0m \u001b[38;5;28;01mexcept\u001b[39;00m \u001b[38;5;167;01mKeyError\u001b[39;00m \u001b[38;5;28;01mas\u001b[39;00m err:\n",
      "File \u001b[0;32m~/anaconda3/lib/python3.9/site-packages/pandas/_libs/index.pyx:136\u001b[0m, in \u001b[0;36mpandas._libs.index.IndexEngine.get_loc\u001b[0;34m()\u001b[0m\n",
      "File \u001b[0;32m~/anaconda3/lib/python3.9/site-packages/pandas/_libs/index.pyx:163\u001b[0m, in \u001b[0;36mpandas._libs.index.IndexEngine.get_loc\u001b[0;34m()\u001b[0m\n",
      "File \u001b[0;32mpandas/_libs/hashtable_class_helper.pxi:5198\u001b[0m, in \u001b[0;36mpandas._libs.hashtable.PyObjectHashTable.get_item\u001b[0;34m()\u001b[0m\n",
      "File \u001b[0;32mpandas/_libs/hashtable_class_helper.pxi:5206\u001b[0m, in \u001b[0;36mpandas._libs.hashtable.PyObjectHashTable.get_item\u001b[0;34m()\u001b[0m\n",
      "\u001b[0;31mKeyError\u001b[0m: 'prop_check'",
      "\nThe above exception was the direct cause of the following exception:\n",
      "\u001b[0;31mKeyError\u001b[0m                                  Traceback (most recent call last)",
      "Input \u001b[0;32mIn [35]\u001b[0m, in \u001b[0;36m<cell line: 1>\u001b[0;34m()\u001b[0m\n\u001b[0;32m----> 1\u001b[0m d2[\u001b[43md2\u001b[49m\u001b[43m[\u001b[49m\u001b[38;5;124;43m'\u001b[39;49m\u001b[38;5;124;43mprop_check\u001b[39;49m\u001b[38;5;124;43m'\u001b[39;49m\u001b[43m]\u001b[49m\u001b[38;5;241m==\u001b[39m\u001b[38;5;241m2\u001b[39m]\n",
      "File \u001b[0;32m~/anaconda3/lib/python3.9/site-packages/pandas/core/frame.py:3505\u001b[0m, in \u001b[0;36mDataFrame.__getitem__\u001b[0;34m(self, key)\u001b[0m\n\u001b[1;32m   3503\u001b[0m \u001b[38;5;28;01mif\u001b[39;00m \u001b[38;5;28mself\u001b[39m\u001b[38;5;241m.\u001b[39mcolumns\u001b[38;5;241m.\u001b[39mnlevels \u001b[38;5;241m>\u001b[39m \u001b[38;5;241m1\u001b[39m:\n\u001b[1;32m   3504\u001b[0m     \u001b[38;5;28;01mreturn\u001b[39;00m \u001b[38;5;28mself\u001b[39m\u001b[38;5;241m.\u001b[39m_getitem_multilevel(key)\n\u001b[0;32m-> 3505\u001b[0m indexer \u001b[38;5;241m=\u001b[39m \u001b[38;5;28;43mself\u001b[39;49m\u001b[38;5;241;43m.\u001b[39;49m\u001b[43mcolumns\u001b[49m\u001b[38;5;241;43m.\u001b[39;49m\u001b[43mget_loc\u001b[49m\u001b[43m(\u001b[49m\u001b[43mkey\u001b[49m\u001b[43m)\u001b[49m\n\u001b[1;32m   3506\u001b[0m \u001b[38;5;28;01mif\u001b[39;00m is_integer(indexer):\n\u001b[1;32m   3507\u001b[0m     indexer \u001b[38;5;241m=\u001b[39m [indexer]\n",
      "File \u001b[0;32m~/anaconda3/lib/python3.9/site-packages/pandas/core/indexes/base.py:3623\u001b[0m, in \u001b[0;36mIndex.get_loc\u001b[0;34m(self, key, method, tolerance)\u001b[0m\n\u001b[1;32m   3621\u001b[0m     \u001b[38;5;28;01mreturn\u001b[39;00m \u001b[38;5;28mself\u001b[39m\u001b[38;5;241m.\u001b[39m_engine\u001b[38;5;241m.\u001b[39mget_loc(casted_key)\n\u001b[1;32m   3622\u001b[0m \u001b[38;5;28;01mexcept\u001b[39;00m \u001b[38;5;167;01mKeyError\u001b[39;00m \u001b[38;5;28;01mas\u001b[39;00m err:\n\u001b[0;32m-> 3623\u001b[0m     \u001b[38;5;28;01mraise\u001b[39;00m \u001b[38;5;167;01mKeyError\u001b[39;00m(key) \u001b[38;5;28;01mfrom\u001b[39;00m \u001b[38;5;21;01merr\u001b[39;00m\n\u001b[1;32m   3624\u001b[0m \u001b[38;5;28;01mexcept\u001b[39;00m \u001b[38;5;167;01mTypeError\u001b[39;00m:\n\u001b[1;32m   3625\u001b[0m     \u001b[38;5;66;03m# If we have a listlike key, _check_indexing_error will raise\u001b[39;00m\n\u001b[1;32m   3626\u001b[0m     \u001b[38;5;66;03m#  InvalidIndexError. Otherwise we fall through and re-raise\u001b[39;00m\n\u001b[1;32m   3627\u001b[0m     \u001b[38;5;66;03m#  the TypeError.\u001b[39;00m\n\u001b[1;32m   3628\u001b[0m     \u001b[38;5;28mself\u001b[39m\u001b[38;5;241m.\u001b[39m_check_indexing_error(key)\n",
      "\u001b[0;31mKeyError\u001b[0m: 'prop_check'"
     ]
    }
   ],
   "source": [
    "d2[d2['']==2]\n"
   ]
  },
  {
   "cell_type": "code",
   "execution_count": null,
   "id": "a9cec851-4df6-4e3b-a36d-54f33b692344",
   "metadata": {},
   "outputs": [],
   "source": []
  }
 ],
 "metadata": {
  "kernelspec": {
   "display_name": "Python 3 (ipykernel)",
   "language": "python",
   "name": "python3"
  },
  "language_info": {
   "codemirror_mode": {
    "name": "ipython",
    "version": 3
   },
   "file_extension": ".py",
   "mimetype": "text/x-python",
   "name": "python",
   "nbconvert_exporter": "python",
   "pygments_lexer": "ipython3",
   "version": "3.9.12"
  }
 },
 "nbformat": 4,
 "nbformat_minor": 5
}
